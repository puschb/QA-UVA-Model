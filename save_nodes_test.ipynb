{
 "cells": [
  {
   "cell_type": "code",
   "execution_count": null,
   "metadata": {},
   "outputs": [],
   "source": [
    "from llama_index import Document\n",
    "import os\n",
    "import json\n",
    "def build_documents(directory):\n",
    "  documents = []\n",
    "  for article in os.listdir(directory):\n",
    "      article_path = os.path.join(directory,article)\n",
    "      with open(article_path, \"r\",encoding = 'utf-8') as f:\n",
    "          article = json.loads(f.read())\n",
    "      content = article['text']\n",
    "      article.pop('text')\n",
    "      article.pop('url')\n",
    "\n",
    "      #this is a very rare occurance (happens once as of 8/11) so this quick fix is fine\n",
    "      description = article['description']\n",
    "      if len(description)>350:\n",
    "          article['description'] = description[:350]\n",
    "\n",
    "\n",
    "      doc = Document(text=content,metadata=article)\n",
    "      doc.id_ = article_path\n",
    "      documents.append(doc)\n",
    "  return documents"
   ]
  },
  {
   "cell_type": "code",
   "execution_count": null,
   "metadata": {},
   "outputs": [],
   "source": [
    "from llama_index.node_parser import SimpleNodeParser\n",
    "def build_nodes(documents, chunk_size, chunk_overlap):\n",
    "    node_parser = SimpleNodeParser.from_defaults(chunk_size=chunk_size, chunk_overlap=chunk_overlap)\n",
    "    nodes = node_parser.get_nodes_from_documents(documents=documents, show_progress=True)\n",
    "    return nodes"
   ]
  },
  {
   "cell_type": "code",
   "execution_count": null,
   "metadata": {},
   "outputs": [],
   "source": [
    "documents = build_documents('all_uva_news_articles_individual')\n",
    "nodes = build_nodes(documents,512,128)"
   ]
  },
  {
   "cell_type": "code",
   "execution_count": null,
   "metadata": {},
   "outputs": [],
   "source": [
    "import Exception\n",
    "for node in nodes:\n",
    "    with open(f'node_storage/{node.id_}', \"w\", encoding='utf-8') as f:\n",
    "        f.write(node.json())\n"
   ]
  },
  {
   "cell_type": "code",
   "execution_count": null,
   "metadata": {},
   "outputs": [],
   "source": [
    "from llama_index.schema import TextNode\n",
    "nodes = []\n",
    "for article in os.listdir('node_storage'):\n",
    "    article_path = os.path.join('node_storage',article)\n",
    "    nodes.append(TextNode.parse_file(article_path,encoding='utf-8'))\n",
    "\n",
    "for node in nodes:\n",
    "    print(node)"
   ]
  }
 ],
 "metadata": {
  "kernelspec": {
   "display_name": ".venv",
   "language": "python",
   "name": "python3"
  },
  "language_info": {
   "codemirror_mode": {
    "name": "ipython",
    "version": 3
   },
   "file_extension": ".py",
   "mimetype": "text/x-python",
   "name": "python",
   "nbconvert_exporter": "python",
   "pygments_lexer": "ipython3",
   "version": "3.10.6"
  },
  "orig_nbformat": 4
 },
 "nbformat": 4,
 "nbformat_minor": 2
}
