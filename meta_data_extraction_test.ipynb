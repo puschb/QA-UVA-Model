{
 "cells": [
  {
   "cell_type": "code",
   "execution_count": 1,
   "metadata": {},
   "outputs": [
    {
     "name": "stdout",
     "output_type": "stream",
     "text": [
      "{'title': '2 Alumnae to Continue Studies as Knight-Hennessy Scholars', 'author': 'Matt Kelly', 'date': '5/9/2022 6:19:37 PM', 'category': 'University News', 'description': 'Two University of Virginia graduates will delve into Black genre literature, and public and business administration as Knight-Hennessy Scholars.'}\n",
      "{'title': '4 Alumni Recipes to Add to Your Thanksgiving Feast', 'author': 'n/a', 'date': '11/22/2021 8:56:29 PM', 'category': 'University News', 'description': 'University of Virginia alumni chefs offer something a little different this holiday, from their Thanksgiving tables to yours.'}\n",
      "{'title': '2005 Alumnus Charles Barzun to Join University of Virginia Law Faculty', 'author': 'Mary Wood', 'date': '5/23/2008 4:00:00 AM', 'category': 'University News', 'description': 'n/a'}\n",
      "{'title': '2016 Alum to Study Global Affairs in China as Schwarzman Scholar', 'author': 'Matt Kelly', 'date': '12/4/2019 9:05:54 PM', 'category': 'Student Experience', 'description': 'Henrique Sosa wants to participate in the reconstruction of his native Venezuela through economic development policy. The next step in that journey will take him through China, where he will attend Tsinghua University as a Schwarzman Scholar.'}\n",
      "{'title': '2,409 Applicants Receive UVA Offers During Regular Admission', 'author': 'Jane Kelly', 'date': '3/23/2020 7:45:31 PM', 'category': 'Student Experience', 'description': 'Some students around the world got a bit of good news last week, receiving notices of admission in UVA’s regular decision offer cycle.'}\n",
      "{'title': '9/11 Attacks Inspired Miles Kirwin to Serve His Country', 'author': 'n/a', 'date': '8/24/2021 5:10:12 PM', 'category': 'University News', 'description': 'UVA alumnus Miles Kirwin took the shadow 9/11 cast over his life and used it to focus on his goals and his place in the world.'}\n",
      "{'title': '17 Blockbuster Arts Highlights from 2017', 'author': 'Caroline Newman', 'date': '12/22/2017 2:34:11 PM', 'category': 'Arts & Culture', 'description': 'Take a look back at some of the year’s most notable performances, memorable moments and spectacular shows.'}\n",
      "{'title': '11 Book Festival Events With a Distinct UVA Flavor', 'author': 'Anne E. Bromley', 'date': '3/19/2019 8:08:12 PM', 'category': 'Arts & Culture', 'description': 'Among more than 130 programs, many will feature speakers and panelists with University ties, offering the public a chance to hear directly from faculty members in fields ranging from U.S. history to Latin American politics, and many more.'}\n",
      "{'title': '3 Bush Oral History Excerpts That Shed Light on Current Events in Afghanistan', 'author': 'n/a', 'date': '8/17/2021 8:26:28 PM', 'category': 'Business & Government', 'description': 'Join UVA scholars in going beyond the headlines to look back the Miller Center’s oral history of George W. Bush’s presidency and the beginning of a 20-year war now coming to a tough and tragic end.'}\n",
      "{'title': '8 Cheap Eats Just a Short Walk Away (From the Rotunda)', 'author': 'n/a', 'date': '4/6/2023 7:22:14 PM', 'category': 'Student Experience', 'description': 'Check out our student writer’s recommendations for affordable restaurants within a mile radius of the Rotunda.'}\n",
      "{'title': '2010 Civil Rights Tour with Julian Bond Goes from Memphis to New Orleans', 'author': 'Anne E. Bromley', 'date': '11/18/2009 5:00:00 AM', 'category': 'University News', 'description': 'n/a'}\n",
      "{'title': '2021 CVC Sees Increases in Participation, Donations to Local Nonprofits', 'author': 'n/a', 'date': '1/28/2022 5:11:16 PM', 'category': 'University News', 'description': 'The 2021 Commonwealth of Virginia Campaign saw a widespread increase in participation among UVA employees, with many gifts supporting nonprofits in the local community.'}\n",
      "{'title': '100 Days of UVA Sports Memories, By Two of UVA’s Youngest Fans', 'author': 'Payton Moledor', 'date': '8/13/2020 3:57:30 PM', 'category': 'University News', 'description': 'UVA Athletics photographer Matt Riley and sons recreated famous moments in Cavalier sports history.'}\n",
      "{'title': '17 Days that Shook U.Va. -- Library, Course Aim to Preserve Event for Historic Record', 'author': 'Rob Seal', 'date': '7/25/2012 4:00:00 AM', 'category': 'University News', 'description': \"A new academic course this fall and a library initiative aim to preserve a record of the events surrounding U.Va. President Teresa A. Sullivan's resignation and reinstatement during those 17 tumultuous days in June.\"}\n",
      "{'title': '2010 edUi Web Design Conference Seeks to Build On Prior Success', 'author': 'H. Brevy Cannon', 'date': '8/26/2010 4:00:00 AM', 'category': 'University News', 'description': 'n/a'}\n",
      "{'title': '150 Employees Attend First Town Hall Meeting on New HR Staff Plan', 'author': 'Anne E. Bromley', 'date': '10/16/2008 4:00:00 AM', 'category': 'University News', 'description': 'n/a'}\n",
      "{'title': '6 Entrepreneurial Student Teams to Compete for $60,000 in Funding', 'author': 'Matt Kelly', 'date': '4/19/2019 4:12:40 PM', 'category': 'Business & Government', 'description': 'The Pike Engineering Entrepreneurship Fellows Program provides funding guidance and mentorship for students interested in creating their own businesses.'}\n",
      "{'title': '35 Exceptional Students Will Matriculate at U.Va. This Fall as Jefferson Scholars', 'author': 'Joyce Carman', 'date': '5/29/2015 5:16:48 PM', 'category': 'University News', 'description': 'The Jefferson Scholars Foundation has announced the names of 35 young men and women who will commence their studies at the University of Virginia in August as the Jefferson Scholars Class of 2019.'}\n",
      "{'title': '5 Factors That Fuel Income Inequality', 'author': 'Caroline Newman', 'date': '2/13/2018 9:35:13 PM', 'category': 'Business & Government', 'description': \"Darden School of Business professor Peter Belmi has spent several years studying how and why income inequality persists. He shares five key insights that can help us understand and address one of today's most significant social issues.\"}\n",
      "{'title': '12 Faculty Books Delve into Notions of Home and Nation', 'author': 'Anne E. Bromley', 'date': '2/6/2017 8:52:13 PM', 'category': 'University News', 'description': 'President Teresa A. Sullivan celebrates faculty authors with an annual reception at Carr’s Hill. Last year, their output included more than 180 titles.'}\n",
      "{'title': '6 Fascinating Trees to Find Next Time You’re On Grounds', 'author': 'n/a', 'date': '6/20/2019 8:15:10 PM', 'category': 'University News', 'description': 'The University was recently awarded a “Tree Campus USA” designation by the Arbor Day Foundation. Take a look at six trees on Grounds with deep roots.'}\n",
      "{'title': '3, 2, 1 … Splash! A Look Back at 10 UVA Basketball Buzzer-Beaters', 'author': 'n/a', 'date': '2/8/2022 8:54:21 PM', 'category': 'University News', 'description': 'In the aftermath of UVA’s thrilling, last-second win at Duke on Monday, a look back at 10 of the most dramatic shots in Cavalier basketball history.'}\n"
     ]
    }
   ],
   "source": [
    "from llama_index import Document, VectorStoreIndex\n",
    "import os, json\n",
    "os.environ['CUDA_VISIBLE_DEVICES'] = '-1'\n",
    "\n",
    "#load documents\n",
    "documents = []\n",
    "directory = 'uva_articles_sample'\n",
    "for article in os.listdir(directory):\n",
    "    article_path = os.path.join(directory,article)\n",
    "    with open(article_path, \"r\",encoding = 'utf-8') as f:\n",
    "        article = json.loads(f.read())\n",
    "    content = article['text']\n",
    "    article.pop('text')\n",
    "    article.pop('url')\n",
    "    doc = Document(text=content,metadata=article)\n",
    "    doc.id_ = article_path\n",
    "    documents.append(doc)\n",
    "\n",
    "\n",
    "for doc in documents:\n",
    "    print(doc.metadata)\n",
    "\n",
    "\n",
    "\n",
    "\n",
    "#things to do\n",
    "# test metadata extraction with 10 documents, maybe make a custom one\n",
    "# implement meta data extraction by creating nodes from the documents\n",
    "# once the nodes are created (could take a brick), turn the nodes into indicies using the different index methods\n",
    "#vector db to use: FAISS\\\n",
    "#chunk size = 1024\n",
    "#chunk overlap = 128"
   ]
  },
  {
   "cell_type": "code",
   "execution_count": 2,
   "metadata": {},
   "outputs": [
    {
     "name": "stdout",
     "output_type": "stream",
     "text": [
      "\n",
      "===================================BUG REPORT===================================\n",
      "Welcome to bitsandbytes. For bug reports, please submit your error trace to: https://github.com/TimDettmers/bitsandbytes/issues\n",
      "================================================================================\n",
      "binary_path: c:\\Users\\Benjamin\\Documents\\Random Projects\\UVA-QA-Model\\QA-UVA-Model\\.venv\\lib\\site-packages\\bitsandbytes\\cuda_setup\\libbitsandbytes_cuda116.dll\n",
      "CUDA SETUP: Loading binary c:\\Users\\Benjamin\\Documents\\Random Projects\\UVA-QA-Model\\QA-UVA-Model\\.venv\\lib\\site-packages\\bitsandbytes\\cuda_setup\\libbitsandbytes_cuda116.dll...\n"
     ]
    },
    {
     "data": {
      "application/vnd.jupyter.widget-view+json": {
       "model_id": "bcecd458ba1344c48dab18241da2b8b1",
       "version_major": 2,
       "version_minor": 0
      },
      "text/plain": [
       "Loading checkpoint shards:   0%|          | 0/2 [00:00<?, ?it/s]"
      ]
     },
     "metadata": {},
     "output_type": "display_data"
    }
   ],
   "source": [
    "#build service context for querying\n",
    "from llama_index.llms import HuggingFaceLLM\n",
    "from llama_index.prompts.prompts import SimpleInputPrompt\n",
    "from langchain.embeddings.huggingface import HuggingFaceEmbeddings\n",
    "from llama_index import LangchainEmbedding\n",
    "from llama_index import ServiceContext\n",
    "\n",
    "system_prompt = \"\"\"<|SYSTEM|># StableLM Tuned (Alpha version)\n",
    "- StableLM is a helpful and harmless open-source AI language model developed by StabilityAI.\n",
    "- StableLM is excited to be able to help the user, but will refuse to do anything that could be considered harmful to the user.\n",
    "- StableLM is more than just an information source, StableLM is also able to write poetry, short stories, and make jokes.\n",
    "- StableLM will refuse to participate in anything that could harm a human.\n",
    "\"\"\"\n",
    "\n",
    "# This will wrap the default prompts that are internal to llama-index\n",
    "query_wrapper_prompt = SimpleInputPrompt(\"<|USER|>{query_str}<|ASSISTANT|>\")\n",
    "\n",
    "\n",
    "query_llm = HuggingFaceLLM(\n",
    "    context_window=4096,\n",
    "    max_new_tokens=256,\n",
    "    generate_kwargs={\"temperature\": 0.7, \"do_sample\": False},\n",
    "    system_prompt=system_prompt,\n",
    "    query_wrapper_prompt=query_wrapper_prompt,\n",
    "    tokenizer_name=\"StabilityAI/stablelm-tuned-alpha-3b\",\n",
    "    model_name=\"StabilityAI/stablelm-tuned-alpha-3b\",\n",
    "    device_map=\"auto\",\n",
    "    stopping_ids=[50278, 50279, 50277, 1, 0],\n",
    "    tokenizer_kwargs={\"max_length\": 4096},\n",
    "    # uncomment this if using CUDA to reduce memory usage\n",
    "    #model_kwargs={\"torch_dtype\": torch.float16}\n",
    ")\n",
    "\n",
    "\n",
    "embed_model = LangchainEmbedding(\n",
    "  HuggingFaceEmbeddings(model_name=\"sentence-transformers/all-mpnet-base-v2\", model_kwargs = {'device': 'cpu'})\n",
    ")\n",
    "\n",
    "query_service_context = ServiceContext.from_defaults(chunk_size=1024,llm=query_llm,embed_model=embed_model)"
   ]
  },
  {
   "cell_type": "code",
   "execution_count": 3,
   "metadata": {},
   "outputs": [
    {
     "data": {
      "application/vnd.jupyter.widget-view+json": {
       "model_id": "178eb8834f364335baae28c0874a273a",
       "version_major": 2,
       "version_minor": 0
      },
      "text/plain": [
       "Parsing documents into nodes:   0%|          | 0/22 [00:00<?, ?it/s]"
      ]
     },
     "metadata": {},
     "output_type": "display_data"
    }
   ],
   "source": [
    "from llama_index import Document\n",
    "from llama_index.node_parser import SimpleNodeParser\n",
    "\n",
    "node_parser = SimpleNodeParser.from_defaults(chunk_size=1024, chunk_overlap=128)\n",
    "\n",
    "nodes = node_parser.get_nodes_from_documents(documents=documents, show_progress=True)"
   ]
  },
  {
   "cell_type": "code",
   "execution_count": 4,
   "metadata": {},
   "outputs": [
    {
     "data": {
      "text/plain": [
       "'embed_model = LangchainEmbedding(\\n  HuggingFaceEmbeddings(model_name=\"sentence-transformers/all-mpnet-base-v2\", model_kwargs = {\\'device\\': \\'cpu\\'})\\n)'"
      ]
     },
     "execution_count": 4,
     "metadata": {},
     "output_type": "execute_result"
    }
   ],
   "source": [
    "#load llm and embed models\n",
    "from llama_index.llms import MockLLM\n",
    "from langchain.embeddings.huggingface import HuggingFaceEmbeddings\n",
    "from llama_index import LangchainEmbedding\n",
    "llm = MockLLM()\n",
    "'''embed_model = LangchainEmbedding(\n",
    "  HuggingFaceEmbeddings(model_name=\"sentence-transformers/all-mpnet-base-v2\", model_kwargs = {'device': 'cpu'})\n",
    ")'''\n"
   ]
  },
  {
   "cell_type": "code",
   "execution_count": 5,
   "metadata": {},
   "outputs": [
    {
     "data": {
      "application/vnd.jupyter.widget-view+json": {
       "model_id": "bce7d8b09b54423e9e656c9ebebc58f5",
       "version_major": 2,
       "version_minor": 0
      },
      "text/plain": [
       "Generating embeddings:   0%|          | 0/62 [00:00<?, ?it/s]"
      ]
     },
     "metadata": {},
     "output_type": "display_data"
    },
    {
     "ename": "",
     "evalue": "",
     "output_type": "error",
     "traceback": [
      "\u001b[1;31mThe Kernel crashed while executing code in the the current cell or a previous cell. Please review the code in the cell(s) to identify a possible cause of the failure. Click <a href='https://aka.ms/vscodeJupyterKernelCrash'>here</a> for more info. View Jupyter <a href='command:jupyter.viewOutput'>log</a> for further details."
     ]
    }
   ],
   "source": [
    "#building vector store index\n",
    "from llama_index import VectorStoreIndex\n",
    "from llama_index import ServiceContext, StorageContext\n",
    "import faiss #only have faiss-cpu installed for now, to get gpu:pip install faiss-gpu\n",
    "from llama_index.vector_stores import FaissVectorStore\n",
    "service_context = ServiceContext.from_defaults(llm=llm,embed_model=embed_model)\n",
    "\n",
    "#v_index = VectorStoreIndex(nodes=nodes,service_context=service_context,show_progress=True)\n",
    "\n",
    "d = 768 \n",
    "faiss_index = faiss.IndexFlatL2(d)\n",
    "faiss_vector_store = FaissVectorStore(faiss_index=faiss_index)\n",
    "storage_context = StorageContext.from_defaults(vector_store=faiss_vector_store)\n",
    "\n",
    "v_faiss_index = VectorStoreIndex(nodes=nodes, service_context=query_service_context, storage_context=storage_context,show_progress=True)"
   ]
  },
  {
   "cell_type": "code",
   "execution_count": 9,
   "metadata": {},
   "outputs": [],
   "source": [
    "#building query engine\n",
    "from llama_index.response_synthesizers import get_response_synthesizer\n",
    "from llama_index.indices.vector_store.retrievers import VectorIndexRetriever\n",
    "from llama_index.query_engine.retriever_query_engine import RetrieverQueryEngine\n",
    "\n",
    "response_synthesizer = get_response_synthesizer(response_mode='compact', service_context=query_service_context)\n",
    "\n",
    "retriever = VectorIndexRetriever(\n",
    "    index=v_faiss_index,\n",
    "    similarity_top_k=3,\n",
    "    vector_store_query_mode=\"default\",\n",
    "    alpha=None,\n",
    "    doc_ids=None,\n",
    ") #https://gpt-index.readthedocs.io/en/latest/core_modules/data_modules/index/vector_store_guide.html\n",
    "\n",
    "# build query engine\n",
    "query_engine = RetrieverQueryEngine(\n",
    "    retriever=retriever, response_synthesizer=response_synthesizer\n",
    ")\n",
    "\n",
    "query_engine_faiss = v_faiss_index.as_query_engine()"
   ]
  },
  {
   "cell_type": "code",
   "execution_count": 10,
   "metadata": {},
   "outputs": [
    {
     "name": "stderr",
     "output_type": "stream",
     "text": [
      "Setting `pad_token_id` to `eos_token_id`:0 for open-end generation.\n"
     ]
    }
   ],
   "source": [
    "#query\n",
    "#response = query_engine.query(\"What did the Dave Matthews band do?\")\n",
    "response = query_engine_faiss.query(\"What did the Dave Matthews band do?\")"
   ]
  },
  {
   "cell_type": "code",
   "execution_count": 11,
   "metadata": {},
   "outputs": [
    {
     "name": "stdout",
     "output_type": "stream",
     "text": [
      "The Dave Matthews Band is a student-run radio station in Virginia that plays a variety of unique songs and has been providing music education and community outreach for over two decades. The band has produced numerous notable performances, including the 17 Blockbusters Arts Highlights from 2017. The station has also hosted many prestigious events, including the Bicentennial Launch Celebration and the Concert for Charlottesville. The band has also produced several successful albums and has been recognized with numerous awards and accolades.\n"
     ]
    }
   ],
   "source": [
    "from IPython.display import Markdown, display\n",
    "#display(Markdown(f\"<b>{response}</b>\"))\n",
    "with open(\"source_nodes_text.txt\",\"w\",encoding='utf-8') as f:\n",
    "    f.write(response.get_formatted_sources(length=10000))\n",
    "print(response.response)"
   ]
  },
  {
   "cell_type": "code",
   "execution_count": null,
   "metadata": {},
   "outputs": [],
   "source": [
    "#faiss test\n",
    "#works better than regular vector store\n",
    "from llama_index import (\n",
    "    SimpleDirectoryReader,\n",
    "    load_index_from_storage,\n",
    "    VectorStoreIndex,\n",
    "    StorageContext,\n",
    ")\n",
    "from llama_index.vector_stores.faiss import FaissVectorStore\n",
    "from IPython.display import Markdown, display\n",
    "documents = SimpleDirectoryReader(\"./uva_articles_sample\").load_data()\n",
    "vector_store = FaissVectorStore(faiss_index=faiss_index)\n",
    "storage_context = StorageContext.from_defaults(vector_store=vector_store)\n",
    "index = VectorStoreIndex.from_documents(documents, storage_context=storage_context,service_context=query_service_context)\n",
    "query_engine = index.as_query_engine()\n",
    "response = query_engine.query(\"What did the Dave Matthews band do?\")\n",
    "print(response)"
   ]
  },
  {
   "cell_type": "code",
   "execution_count": 7,
   "metadata": {},
   "outputs": [
    {
     "name": "stderr",
     "output_type": "stream",
     "text": [
      "Setting `pad_token_id` to `eos_token_id`:0 for open-end generation.\n"
     ]
    }
   ],
   "source": [
    "#knowledge graph index scratch\n",
    "g_query_engine = g_store_index.as_query_engine()\n",
    "response = g_query_engine.query(\"What did the Dave Matthews band do?\")\n"
   ]
  },
  {
   "cell_type": "code",
   "execution_count": null,
   "metadata": {},
   "outputs": [],
   "source": [
    "print(response)\n",
    "print(response.source_nodes)"
   ]
  }
 ],
 "metadata": {
  "kernelspec": {
   "display_name": "Python 3 (ipykernel)",
   "language": "python",
   "name": "python3"
  },
  "language_info": {
   "codemirror_mode": {
    "name": "ipython",
    "version": 3
   },
   "file_extension": ".py",
   "mimetype": "text/x-python",
   "name": "python",
   "nbconvert_exporter": "python",
   "pygments_lexer": "ipython3",
   "version": "3.10.6"
  }
 },
 "nbformat": 4,
 "nbformat_minor": 4
}
